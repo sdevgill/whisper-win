{
 "cells": [
  {
   "cell_type": "code",
   "execution_count": null,
   "metadata": {},
   "outputs": [],
   "source": [
    "import whisper\n",
    "import openai\n",
    "from dotenv import dotenv_values\n",
    "import time"
   ]
  },
  {
   "cell_type": "code",
   "execution_count": null,
   "metadata": {},
   "outputs": [],
   "source": [
    "# Available models: tiny, base, small, medium, large (default large-v2)\n",
    "model = whisper.load_model(\"large\")"
   ]
  },
  {
   "cell_type": "code",
   "execution_count": null,
   "metadata": {},
   "outputs": [],
   "source": [
    "config = dotenv_values(\".env\")\n",
    "openai.api_key = config[\"OPENAI_API_KEY\"]"
   ]
  },
  {
   "cell_type": "code",
   "execution_count": null,
   "metadata": {},
   "outputs": [],
   "source": [
    "def transcribe_and_append(audio_path, output_path, separator=\"\\n--------------------------------\\n\"):\n",
    "    result = model.transcribe(audio_path)\n",
    "    transcription = result[\"text\"]\n",
    "\n",
    "    with open(output_path, \"a\") as output_file:\n",
    "        output_file.write(separator + \"\\n\")\n",
    "        output_file.write(transcription + \"\\n\")\n",
    "\n",
    "    return transcription"
   ]
  },
  {
   "cell_type": "code",
   "execution_count": null,
   "metadata": {},
   "outputs": [],
   "source": [
    "def split_text_into_chunks(text, max_tokens):\n",
    "    words = text.split()\n",
    "    chunks = []\n",
    "    current_chunk = []\n",
    "\n",
    "    for word in words:\n",
    "        if len(\" \".join(current_chunk) + \" \" + word) <= max_tokens:\n",
    "            current_chunk.append(word)\n",
    "        else:\n",
    "            chunks.append(\" \".join(current_chunk))\n",
    "            current_chunk = [word]\n",
    "\n",
    "    if current_chunk:\n",
    "        chunks.append(\" \".join(current_chunk))\n",
    "\n",
    "    return chunks"
   ]
  },
  {
   "cell_type": "code",
   "execution_count": null,
   "metadata": {},
   "outputs": [],
   "source": [
    "def process_text_with_gpt35_turbo(text, max_retries=3, retry_delay=5):\n",
    "    max_tokens = 3272 - 200  # Reserve tokens for the prompt and other overheads\n",
    "    chunks = split_text_into_chunks(text, max_tokens)\n",
    "\n",
    "    edited_text = \"\"\n",
    "\n",
    "    for chunk in chunks:\n",
    "        message = [\n",
    "            {\n",
    "                \"role\": \"system\",\n",
    "                \"content\": (\n",
    "                    \"Act as a copy editor. Go through the transcribed text in triple quotes below.\"\n",
    "                    \"Edit it for spelling mistakes, grammar issues, punctuation. \"\n",
    "                    \"Format the text into appropriately sized paragraphs. Make your best effort.\\n\\n\"\n",
    "                    f\"\"\" {chunk} \"\"\"\n",
    "                    \"\\n\\nReturn only the edited text. If the text involves multiple people, start each new speaker on a new line, along with their name. Do not alter the actual content of the text.\"\n",
    "                ),\n",
    "            }\n",
    "        ]\n",
    "\n",
    "        retries = 0\n",
    "        success = False\n",
    "\n",
    "        while retries < max_retries and not success:\n",
    "            try:\n",
    "                response = openai.ChatCompletion.create(\n",
    "                    model=\"gpt-3.5-turbo\",\n",
    "                    messages=message,\n",
    "                    max_tokens=max_tokens,\n",
    "                    temperature=0.7,\n",
    "                    top_p=1,\n",
    "                    frequency_penalty=0,\n",
    "                    presence_penalty=0,\n",
    "                )\n",
    "\n",
    "                edited_chunk = response.choices[0].message.content.strip()\n",
    "                edited_text += \" \" + edited_chunk\n",
    "                success = True\n",
    "\n",
    "            except openai.APIError as e:\n",
    "                retries += 1\n",
    "                print(f\"Error occurred: {e}. Retrying {retries}/{max_retries}.\")\n",
    "                with open(\"failed_requests.log\", \"a\") as f:\n",
    "                    f.write(f\"{time.strftime('%Y-%m-%d %H:%M:%S')} - {e}\\nRequest: {message}\\n\\n\")\n",
    "                if retries < max_retries:\n",
    "                    time.sleep(retry_delay)\n",
    "\n",
    "        if not success:\n",
    "            print(\"Failed to process the following chunk after maximum retries:\")\n",
    "            print(chunk)\n",
    "            print(\"Check 'failed_requests.log' for more details.\")\n",
    "\n",
    "    return edited_text.strip()"
   ]
  },
  {
   "cell_type": "code",
   "execution_count": null,
   "metadata": {},
   "outputs": [],
   "source": [
    "audio_file_path = \"./audio.mp3\"\n",
    "original_output_file_path = \"./audio_original.txt\"\n",
    "revised_output_file_path = \"./audio_revised.txt\""
   ]
  },
  {
   "cell_type": "code",
   "execution_count": null,
   "metadata": {},
   "outputs": [],
   "source": [
    "transcription = transcribe_and_append(audio_file_path, original_output_file_path)"
   ]
  },
  {
   "cell_type": "code",
   "execution_count": null,
   "metadata": {},
   "outputs": [],
   "source": [
    "edited_text = process_text_with_gpt35_turbo(transcription)"
   ]
  },
  {
   "cell_type": "code",
   "execution_count": null,
   "metadata": {},
   "outputs": [],
   "source": [
    "with open(revised_output_file_path, \"w\") as f:\n",
    "    f.write(edited_text)"
   ]
  }
 ],
 "metadata": {
  "kernelspec": {
   "display_name": ".venv",
   "language": "python",
   "name": "python3"
  },
  "language_info": {
   "name": "python",
   "version": "3.10.10"
  },
  "orig_nbformat": 4
 },
 "nbformat": 4,
 "nbformat_minor": 2
}

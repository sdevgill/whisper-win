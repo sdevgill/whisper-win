{
 "cells": [
  {
   "cell_type": "code",
   "execution_count": 9,
   "metadata": {},
   "outputs": [],
   "source": [
    "import openai\n",
    "from dotenv import dotenv_values"
   ]
  },
  {
   "cell_type": "code",
   "execution_count": 10,
   "metadata": {},
   "outputs": [],
   "source": [
    "config = dotenv_values(\".env\")\n",
    "openai.api_key = config[\"OPENAI_API_KEY\"]"
   ]
  },
  {
   "cell_type": "code",
   "execution_count": 11,
   "metadata": {},
   "outputs": [],
   "source": [
    "def split_text_into_chunks(text, max_tokens):\n",
    "    words = text.split()\n",
    "    chunks = []\n",
    "    current_chunk = []\n",
    "\n",
    "    for word in words:\n",
    "        if len(\" \".join(current_chunk) + \" \" + word) <= max_tokens:\n",
    "            current_chunk.append(word)\n",
    "        else:\n",
    "            chunks.append(\" \".join(current_chunk))\n",
    "            current_chunk = [word]\n",
    "\n",
    "    if current_chunk:\n",
    "        chunks.append(\" \".join(current_chunk))\n",
    "\n",
    "    return chunks"
   ]
  },
  {
   "cell_type": "code",
   "execution_count": 4,
   "metadata": {},
   "outputs": [],
   "source": [
    "# Basic gpt processing\n",
    "def process_text_with_gpt35_turbo(text):\n",
    "    max_tokens = 3272 - 200  # Reserve tokens for the prompt and other overheads\n",
    "    chunks = split_text_into_chunks(text, max_tokens)\n",
    "\n",
    "    edited_text = \"\"\n",
    "\n",
    "    for chunk in chunks:\n",
    "        message = [\n",
    "            {\n",
    "                \"role\": \"system\",\n",
    "                \"content\": (\n",
    "                    \"Act as a copy editor. Go through the transcribed text in triple quotes below.\"\n",
    "                    \"Edit it for spelling mistakes, grammar issues, punctuation, and generally for readability and flow. \"\n",
    "                    \"Format the text into appropriately sized paragraphs. Make your best effort.\\n\\n\"\n",
    "                    f\"\"\" {chunk} \"\"\"\n",
    "                    \"\\n\\nReturn only the edited text. If the text involves multiple people, start each new speaker on a new line, along with their name.\"\n",
    "                ),\n",
    "            }\n",
    "        ]\n",
    "\n",
    "        response = openai.ChatCompletion.create(\n",
    "            model=\"gpt-3.5-turbo\",\n",
    "            messages=message,\n",
    "            max_tokens=max_tokens,\n",
    "            temperature=0.7,\n",
    "            top_p=1,\n",
    "            frequency_penalty=0,\n",
    "            presence_penalty=0,\n",
    "        )\n",
    "\n",
    "        edited_chunk = response.choices[0].message.content.strip()\n",
    "        edited_text += \" \" + edited_chunk\n",
    "\n",
    "    return edited_text.strip()"
   ]
  },
  {
   "cell_type": "code",
   "execution_count": 13,
   "metadata": {},
   "outputs": [],
   "source": [
    "# Error handling gpt processing\n",
    "import time\n",
    "\n",
    "def process_text_with_gpt35_turbo(text, max_retries=3, retry_delay=5):\n",
    "    max_tokens = 3272 - 200  # Reserve tokens for the prompt and other overheads\n",
    "    chunks = split_text_into_chunks(text, max_tokens)\n",
    "\n",
    "    edited_text = \"\"\n",
    "\n",
    "    for chunk in chunks:\n",
    "        message = [\n",
    "            {\n",
    "                \"role\": \"system\",\n",
    "                \"content\": (\n",
    "                    \"Act as a copy editor. Go through the transcribed text in triple quotes below.\"\n",
    "                    \"Edit it for spelling mistakes, grammar issues, punctuation. \"\n",
    "                    \"Format the text into appropriately sized paragraphs. Make your best effort.\\n\\n\"\n",
    "                    f\"\"\" {chunk} \"\"\"\n",
    "                    \"\\n\\nReturn only the edited text. If the text involves multiple people, start each new speaker on a new line, along with their name. Do not alter the actual content of the text.\"\n",
    "                ),\n",
    "            }\n",
    "        ]\n",
    "\n",
    "        retries = 0\n",
    "        success = False\n",
    "\n",
    "        while retries < max_retries and not success:\n",
    "            try:\n",
    "                response = openai.ChatCompletion.create(\n",
    "                    model=\"gpt-3.5-turbo\",\n",
    "                    messages=message,\n",
    "                    max_tokens=max_tokens,\n",
    "                    temperature=0.7,\n",
    "                    top_p=1,\n",
    "                    frequency_penalty=0,\n",
    "                    presence_penalty=0,\n",
    "                )\n",
    "\n",
    "                edited_chunk = response.choices[0].message.content.strip()\n",
    "                edited_text += \" \" + edited_chunk\n",
    "                success = True\n",
    "\n",
    "            except openai.APIError as e:\n",
    "                retries += 1\n",
    "                print(f\"Error occurred: {e}. Retrying {retries}/{max_retries}.\")\n",
    "                with open(\"failed_requests.log\", \"a\") as f:\n",
    "                    f.write(f\"{time.strftime('%Y-%m-%d %H:%M:%S')} - {e}\\nRequest: {message}\\n\\n\")\n",
    "                if retries < max_retries:\n",
    "                    time.sleep(retry_delay)\n",
    "\n",
    "        if not success:\n",
    "            print(\"Failed to process the following chunk after maximum retries:\")\n",
    "            print(chunk)\n",
    "            print(\"Check 'failed_requests.log' for more details.\")\n",
    "\n",
    "    return edited_text.strip()\n"
   ]
  },
  {
   "cell_type": "code",
   "execution_count": 14,
   "metadata": {},
   "outputs": [],
   "source": [
    "with open(\"./audio.txt\", \"r\") as f:\n",
    "    input_text = f.read()\n",
    "\n",
    "edited_text = process_text_with_gpt35_turbo(input_text)\n",
    "\n",
    "with open(\"audio_revised.txt\", \"w\") as f:\n",
    "    f.write(edited_text)\n"
   ]
  },
  {
   "cell_type": "code",
   "execution_count": null,
   "metadata": {},
   "outputs": [],
   "source": [
    "print(edited_text)\n"
   ]
  }
 ],
 "metadata": {
  "kernelspec": {
   "display_name": ".venv",
   "language": "python",
   "name": "python3"
  },
  "language_info": {
   "codemirror_mode": {
    "name": "ipython",
    "version": 3
   },
   "file_extension": ".py",
   "mimetype": "text/x-python",
   "name": "python",
   "nbconvert_exporter": "python",
   "pygments_lexer": "ipython3",
   "version": "3.10.10"
  },
  "orig_nbformat": 4
 },
 "nbformat": 4,
 "nbformat_minor": 2
}
